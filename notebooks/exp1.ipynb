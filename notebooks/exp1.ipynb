{
 "cells": [
  {
   "cell_type": "code",
   "execution_count": 1,
   "id": "d8e7777e",
   "metadata": {},
   "outputs": [],
   "source": [
    "import pandas as pd\n",
    "import numpy as np\n",
    "import matplotlib.pyplot as plt\n",
    "import seaborn as sns\n",
    "from dotenv import load_dotenv\n",
    "import os\n"
   ]
  },
  {
   "cell_type": "code",
   "execution_count": 2,
   "id": "84bbd7f2",
   "metadata": {},
   "outputs": [
    {
     "data": {
      "text/html": [
       "<div>\n",
       "<style scoped>\n",
       "    .dataframe tbody tr th:only-of-type {\n",
       "        vertical-align: middle;\n",
       "    }\n",
       "\n",
       "    .dataframe tbody tr th {\n",
       "        vertical-align: top;\n",
       "    }\n",
       "\n",
       "    .dataframe thead th {\n",
       "        text-align: right;\n",
       "    }\n",
       "</style>\n",
       "<table border=\"1\" class=\"dataframe\">\n",
       "  <thead>\n",
       "    <tr style=\"text-align: right;\">\n",
       "      <th></th>\n",
       "      <th>no_of_dependents</th>\n",
       "      <th>education</th>\n",
       "      <th>self_employed</th>\n",
       "      <th>income_annum</th>\n",
       "      <th>loan_amount</th>\n",
       "      <th>loan_term</th>\n",
       "      <th>cibil_score</th>\n",
       "      <th>residential_assets_value</th>\n",
       "      <th>commercial_assets_value</th>\n",
       "      <th>luxury_assets_value</th>\n",
       "      <th>bank_asset_value</th>\n",
       "      <th>loan_status</th>\n",
       "    </tr>\n",
       "  </thead>\n",
       "  <tbody>\n",
       "    <tr>\n",
       "      <th>1488</th>\n",
       "      <td>2</td>\n",
       "      <td>Graduate</td>\n",
       "      <td>No</td>\n",
       "      <td>2800000</td>\n",
       "      <td>11000000</td>\n",
       "      <td>16</td>\n",
       "      <td>525</td>\n",
       "      <td>8200000</td>\n",
       "      <td>1800000</td>\n",
       "      <td>5800000</td>\n",
       "      <td>2400000</td>\n",
       "      <td>Rejected</td>\n",
       "    </tr>\n",
       "  </tbody>\n",
       "</table>\n",
       "</div>"
      ],
      "text/plain": [
       "       no_of_dependents  education  self_employed   income_annum  \\\n",
       "1488                  2   Graduate             No        2800000   \n",
       "\n",
       "       loan_amount   loan_term   cibil_score   residential_assets_value  \\\n",
       "1488      11000000          16           525                    8200000   \n",
       "\n",
       "       commercial_assets_value   luxury_assets_value   bank_asset_value  \\\n",
       "1488                   1800000               5800000            2400000   \n",
       "\n",
       "      loan_status  \n",
       "1488     Rejected  "
      ]
     },
     "execution_count": 2,
     "metadata": {},
     "output_type": "execute_result"
    }
   ],
   "source": [
    "data = pd.read_csv('loan_approval_dataset.csv')\n",
    "data = data.iloc[:,1:]\n",
    "data.sample()"
   ]
  },
  {
   "cell_type": "code",
   "execution_count": 3,
   "id": "6672630b",
   "metadata": {},
   "outputs": [
    {
     "data": {
      "text/plain": [
       " no_of_dependents            0\n",
       " education                   0\n",
       " self_employed               0\n",
       " income_annum                0\n",
       " loan_amount                 0\n",
       " loan_term                   0\n",
       " cibil_score                 0\n",
       " residential_assets_value    0\n",
       " commercial_assets_value     0\n",
       " luxury_assets_value         0\n",
       " bank_asset_value            0\n",
       " loan_status                 0\n",
       "dtype: int64"
      ]
     },
     "execution_count": 3,
     "metadata": {},
     "output_type": "execute_result"
    }
   ],
   "source": [
    "data.isna().sum()"
   ]
  },
  {
   "cell_type": "code",
   "execution_count": 4,
   "id": "16d22761",
   "metadata": {},
   "outputs": [
    {
     "name": "stdout",
     "output_type": "stream",
     "text": [
      "<class 'pandas.core.frame.DataFrame'>\n",
      "RangeIndex: 4269 entries, 0 to 4268\n",
      "Data columns (total 12 columns):\n",
      " #   Column                     Non-Null Count  Dtype \n",
      "---  ------                     --------------  ----- \n",
      " 0    no_of_dependents          4269 non-null   int64 \n",
      " 1    education                 4269 non-null   object\n",
      " 2    self_employed             4269 non-null   object\n",
      " 3    income_annum              4269 non-null   int64 \n",
      " 4    loan_amount               4269 non-null   int64 \n",
      " 5    loan_term                 4269 non-null   int64 \n",
      " 6    cibil_score               4269 non-null   int64 \n",
      " 7    residential_assets_value  4269 non-null   int64 \n",
      " 8    commercial_assets_value   4269 non-null   int64 \n",
      " 9    luxury_assets_value       4269 non-null   int64 \n",
      " 10   bank_asset_value          4269 non-null   int64 \n",
      " 11   loan_status               4269 non-null   object\n",
      "dtypes: int64(9), object(3)\n",
      "memory usage: 400.3+ KB\n"
     ]
    }
   ],
   "source": [
    "data.info()"
   ]
  },
  {
   "cell_type": "code",
   "execution_count": 5,
   "id": "0da5af70",
   "metadata": {},
   "outputs": [
    {
     "data": {
      "text/html": [
       "<div>\n",
       "<style scoped>\n",
       "    .dataframe tbody tr th:only-of-type {\n",
       "        vertical-align: middle;\n",
       "    }\n",
       "\n",
       "    .dataframe tbody tr th {\n",
       "        vertical-align: top;\n",
       "    }\n",
       "\n",
       "    .dataframe thead th {\n",
       "        text-align: right;\n",
       "    }\n",
       "</style>\n",
       "<table border=\"1\" class=\"dataframe\">\n",
       "  <thead>\n",
       "    <tr style=\"text-align: right;\">\n",
       "      <th></th>\n",
       "      <th>no_of_dependents</th>\n",
       "      <th>income_annum</th>\n",
       "      <th>loan_amount</th>\n",
       "      <th>loan_term</th>\n",
       "      <th>cibil_score</th>\n",
       "      <th>residential_assets_value</th>\n",
       "      <th>commercial_assets_value</th>\n",
       "      <th>luxury_assets_value</th>\n",
       "      <th>bank_asset_value</th>\n",
       "    </tr>\n",
       "  </thead>\n",
       "  <tbody>\n",
       "    <tr>\n",
       "      <th>count</th>\n",
       "      <td>4269.000000</td>\n",
       "      <td>4.269000e+03</td>\n",
       "      <td>4.269000e+03</td>\n",
       "      <td>4269.000000</td>\n",
       "      <td>4269.000000</td>\n",
       "      <td>4.269000e+03</td>\n",
       "      <td>4.269000e+03</td>\n",
       "      <td>4.269000e+03</td>\n",
       "      <td>4.269000e+03</td>\n",
       "    </tr>\n",
       "    <tr>\n",
       "      <th>mean</th>\n",
       "      <td>2.498712</td>\n",
       "      <td>5.059124e+06</td>\n",
       "      <td>1.513345e+07</td>\n",
       "      <td>10.900445</td>\n",
       "      <td>599.936051</td>\n",
       "      <td>7.472617e+06</td>\n",
       "      <td>4.973155e+06</td>\n",
       "      <td>1.512631e+07</td>\n",
       "      <td>4.976692e+06</td>\n",
       "    </tr>\n",
       "    <tr>\n",
       "      <th>std</th>\n",
       "      <td>1.695910</td>\n",
       "      <td>2.806840e+06</td>\n",
       "      <td>9.043363e+06</td>\n",
       "      <td>5.709187</td>\n",
       "      <td>172.430401</td>\n",
       "      <td>6.503637e+06</td>\n",
       "      <td>4.388966e+06</td>\n",
       "      <td>9.103754e+06</td>\n",
       "      <td>3.250185e+06</td>\n",
       "    </tr>\n",
       "    <tr>\n",
       "      <th>min</th>\n",
       "      <td>0.000000</td>\n",
       "      <td>2.000000e+05</td>\n",
       "      <td>3.000000e+05</td>\n",
       "      <td>2.000000</td>\n",
       "      <td>300.000000</td>\n",
       "      <td>-1.000000e+05</td>\n",
       "      <td>0.000000e+00</td>\n",
       "      <td>3.000000e+05</td>\n",
       "      <td>0.000000e+00</td>\n",
       "    </tr>\n",
       "    <tr>\n",
       "      <th>25%</th>\n",
       "      <td>1.000000</td>\n",
       "      <td>2.700000e+06</td>\n",
       "      <td>7.700000e+06</td>\n",
       "      <td>6.000000</td>\n",
       "      <td>453.000000</td>\n",
       "      <td>2.200000e+06</td>\n",
       "      <td>1.300000e+06</td>\n",
       "      <td>7.500000e+06</td>\n",
       "      <td>2.300000e+06</td>\n",
       "    </tr>\n",
       "    <tr>\n",
       "      <th>50%</th>\n",
       "      <td>3.000000</td>\n",
       "      <td>5.100000e+06</td>\n",
       "      <td>1.450000e+07</td>\n",
       "      <td>10.000000</td>\n",
       "      <td>600.000000</td>\n",
       "      <td>5.600000e+06</td>\n",
       "      <td>3.700000e+06</td>\n",
       "      <td>1.460000e+07</td>\n",
       "      <td>4.600000e+06</td>\n",
       "    </tr>\n",
       "    <tr>\n",
       "      <th>75%</th>\n",
       "      <td>4.000000</td>\n",
       "      <td>7.500000e+06</td>\n",
       "      <td>2.150000e+07</td>\n",
       "      <td>16.000000</td>\n",
       "      <td>748.000000</td>\n",
       "      <td>1.130000e+07</td>\n",
       "      <td>7.600000e+06</td>\n",
       "      <td>2.170000e+07</td>\n",
       "      <td>7.100000e+06</td>\n",
       "    </tr>\n",
       "    <tr>\n",
       "      <th>max</th>\n",
       "      <td>5.000000</td>\n",
       "      <td>9.900000e+06</td>\n",
       "      <td>3.950000e+07</td>\n",
       "      <td>20.000000</td>\n",
       "      <td>900.000000</td>\n",
       "      <td>2.910000e+07</td>\n",
       "      <td>1.940000e+07</td>\n",
       "      <td>3.920000e+07</td>\n",
       "      <td>1.470000e+07</td>\n",
       "    </tr>\n",
       "  </tbody>\n",
       "</table>\n",
       "</div>"
      ],
      "text/plain": [
       "        no_of_dependents   income_annum   loan_amount    loan_term  \\\n",
       "count        4269.000000   4.269000e+03  4.269000e+03  4269.000000   \n",
       "mean            2.498712   5.059124e+06  1.513345e+07    10.900445   \n",
       "std             1.695910   2.806840e+06  9.043363e+06     5.709187   \n",
       "min             0.000000   2.000000e+05  3.000000e+05     2.000000   \n",
       "25%             1.000000   2.700000e+06  7.700000e+06     6.000000   \n",
       "50%             3.000000   5.100000e+06  1.450000e+07    10.000000   \n",
       "75%             4.000000   7.500000e+06  2.150000e+07    16.000000   \n",
       "max             5.000000   9.900000e+06  3.950000e+07    20.000000   \n",
       "\n",
       "        cibil_score   residential_assets_value   commercial_assets_value  \\\n",
       "count   4269.000000               4.269000e+03              4.269000e+03   \n",
       "mean     599.936051               7.472617e+06              4.973155e+06   \n",
       "std      172.430401               6.503637e+06              4.388966e+06   \n",
       "min      300.000000              -1.000000e+05              0.000000e+00   \n",
       "25%      453.000000               2.200000e+06              1.300000e+06   \n",
       "50%      600.000000               5.600000e+06              3.700000e+06   \n",
       "75%      748.000000               1.130000e+07              7.600000e+06   \n",
       "max      900.000000               2.910000e+07              1.940000e+07   \n",
       "\n",
       "        luxury_assets_value   bank_asset_value  \n",
       "count          4.269000e+03       4.269000e+03  \n",
       "mean           1.512631e+07       4.976692e+06  \n",
       "std            9.103754e+06       3.250185e+06  \n",
       "min            3.000000e+05       0.000000e+00  \n",
       "25%            7.500000e+06       2.300000e+06  \n",
       "50%            1.460000e+07       4.600000e+06  \n",
       "75%            2.170000e+07       7.100000e+06  \n",
       "max            3.920000e+07       1.470000e+07  "
      ]
     },
     "execution_count": 5,
     "metadata": {},
     "output_type": "execute_result"
    }
   ],
   "source": [
    "data.describe()\n"
   ]
  },
  {
   "cell_type": "code",
   "execution_count": 6,
   "id": "81fd4e50",
   "metadata": {},
   "outputs": [],
   "source": [
    "data.columns = data.columns.str.strip()"
   ]
  },
  {
   "cell_type": "code",
   "execution_count": 7,
   "id": "834e218e",
   "metadata": {},
   "outputs": [
    {
     "data": {
      "image/png": "[encoded data removed]",
      "text/plain": [
       "<Figure size 1500x1000 with 9 Axes>"
      ]
     },
     "metadata": {},
     "output_type": "display_data"
    }
   ],
   "source": [
    "numeric_cols = data.select_dtypes(include=['int64', 'float64']).columns\n",
    "\n",
    "plt.figure(figsize=(15,10))\n",
    "for i, col in enumerate(numeric_cols, 1):\n",
    "    plt.subplot(4, 3, i)\n",
    "    sns.boxplot(data[col])\n",
    "    plt.title(col)\n",
    "plt.tight_layout()\n",
    "plt.show()\n"
   ]
  },
  {
   "cell_type": "code",
   "execution_count": 8,
   "id": "7633bf7f",
   "metadata": {},
   "outputs": [],
   "source": [
    "# Fix negative values first\n",
    "num_cols = ['residential_assets_value', 'commercial_assets_value','luxury_assets_value', 'bank_asset_value']\n",
    "data[num_cols] = data[num_cols].clip(lower=0)\n",
    "\n",
    "# IQR-based capping\n",
    "def cap_outliers(df, columns):\n",
    "    for col in columns:\n",
    "        Q1 = df[col].quantile(0.25)\n",
    "        Q3 = df[col].quantile(0.75)\n",
    "        IQR = Q3 - Q1\n",
    "        lower = Q1 - 1.5 * IQR\n",
    "        upper = Q3 + 1.5 * IQR\n",
    "        df[col] = np.where(df[col] < lower, lower,\n",
    "                           np.where(df[col] > upper, upper, df[col]))\n",
    "    return df\n",
    "\n",
    "num_cols = data.select_dtypes(include=['int64', 'float64']).columns\n",
    "data = cap_outliers(data, num_cols)"
   ]
  },
  {
   "cell_type": "code",
   "execution_count": 9,
   "id": "9d5c2886",
   "metadata": {},
   "outputs": [
    {
     "data": {
      "text/html": [
       "<div>\n",
       "<style scoped>\n",
       "    .dataframe tbody tr th:only-of-type {\n",
       "        vertical-align: middle;\n",
       "    }\n",
       "\n",
       "    .dataframe tbody tr th {\n",
       "        vertical-align: top;\n",
       "    }\n",
       "\n",
       "    .dataframe thead th {\n",
       "        text-align: right;\n",
       "    }\n",
       "</style>\n",
       "<table border=\"1\" class=\"dataframe\">\n",
       "  <thead>\n",
       "    <tr style=\"text-align: right;\">\n",
       "      <th></th>\n",
       "      <th>no_of_dependents</th>\n",
       "      <th>education</th>\n",
       "      <th>self_employed</th>\n",
       "      <th>income_annum</th>\n",
       "      <th>loan_amount</th>\n",
       "      <th>loan_term</th>\n",
       "      <th>cibil_score</th>\n",
       "      <th>residential_assets_value</th>\n",
       "      <th>commercial_assets_value</th>\n",
       "      <th>luxury_assets_value</th>\n",
       "      <th>bank_asset_value</th>\n",
       "      <th>loan_status</th>\n",
       "    </tr>\n",
       "  </thead>\n",
       "  <tbody>\n",
       "    <tr>\n",
       "      <th>0</th>\n",
       "      <td>2.0</td>\n",
       "      <td>0</td>\n",
       "      <td>0</td>\n",
       "      <td>9600000.0</td>\n",
       "      <td>29900000.0</td>\n",
       "      <td>12.0</td>\n",
       "      <td>778.0</td>\n",
       "      <td>2400000.0</td>\n",
       "      <td>17050000.0</td>\n",
       "      <td>22700000.0</td>\n",
       "      <td>8000000.0</td>\n",
       "      <td>0</td>\n",
       "    </tr>\n",
       "    <tr>\n",
       "      <th>1</th>\n",
       "      <td>0.0</td>\n",
       "      <td>1</td>\n",
       "      <td>1</td>\n",
       "      <td>4100000.0</td>\n",
       "      <td>12200000.0</td>\n",
       "      <td>8.0</td>\n",
       "      <td>417.0</td>\n",
       "      <td>2700000.0</td>\n",
       "      <td>2200000.0</td>\n",
       "      <td>8800000.0</td>\n",
       "      <td>3300000.0</td>\n",
       "      <td>1</td>\n",
       "    </tr>\n",
       "    <tr>\n",
       "      <th>2</th>\n",
       "      <td>3.0</td>\n",
       "      <td>0</td>\n",
       "      <td>0</td>\n",
       "      <td>9100000.0</td>\n",
       "      <td>29700000.0</td>\n",
       "      <td>20.0</td>\n",
       "      <td>506.0</td>\n",
       "      <td>7100000.0</td>\n",
       "      <td>4500000.0</td>\n",
       "      <td>33300000.0</td>\n",
       "      <td>12800000.0</td>\n",
       "      <td>1</td>\n",
       "    </tr>\n",
       "    <tr>\n",
       "      <th>3</th>\n",
       "      <td>3.0</td>\n",
       "      <td>0</td>\n",
       "      <td>0</td>\n",
       "      <td>8200000.0</td>\n",
       "      <td>30700000.0</td>\n",
       "      <td>8.0</td>\n",
       "      <td>467.0</td>\n",
       "      <td>18200000.0</td>\n",
       "      <td>3300000.0</td>\n",
       "      <td>23300000.0</td>\n",
       "      <td>7900000.0</td>\n",
       "      <td>1</td>\n",
       "    </tr>\n",
       "    <tr>\n",
       "      <th>4</th>\n",
       "      <td>5.0</td>\n",
       "      <td>1</td>\n",
       "      <td>1</td>\n",
       "      <td>9800000.0</td>\n",
       "      <td>24200000.0</td>\n",
       "      <td>20.0</td>\n",
       "      <td>382.0</td>\n",
       "      <td>12400000.0</td>\n",
       "      <td>8200000.0</td>\n",
       "      <td>29400000.0</td>\n",
       "      <td>5000000.0</td>\n",
       "      <td>1</td>\n",
       "    </tr>\n",
       "  </tbody>\n",
       "</table>\n",
       "</div>"
      ],
      "text/plain": [
       "   no_of_dependents  education  self_employed  income_annum  loan_amount  \\\n",
       "0               2.0          0              0     9600000.0   29900000.0   \n",
       "1               0.0          1              1     4100000.0   12200000.0   \n",
       "2               3.0          0              0     9100000.0   29700000.0   \n",
       "3               3.0          0              0     8200000.0   30700000.0   \n",
       "4               5.0          1              1     9800000.0   24200000.0   \n",
       "\n",
       "   loan_term  cibil_score  residential_assets_value  commercial_assets_value  \\\n",
       "0       12.0        778.0                 2400000.0               17050000.0   \n",
       "1        8.0        417.0                 2700000.0                2200000.0   \n",
       "2       20.0        506.0                 7100000.0                4500000.0   \n",
       "3        8.0        467.0                18200000.0                3300000.0   \n",
       "4       20.0        382.0                12400000.0                8200000.0   \n",
       "\n",
       "   luxury_assets_value  bank_asset_value  loan_status  \n",
       "0           22700000.0         8000000.0            0  \n",
       "1            8800000.0         3300000.0            1  \n",
       "2           33300000.0        12800000.0            1  \n",
       "3           23300000.0         7900000.0            1  \n",
       "4           29400000.0         5000000.0            1  "
      ]
     },
     "execution_count": 9,
     "metadata": {},
     "output_type": "execute_result"
    }
   ],
   "source": [
    "from sklearn.preprocessing import LabelEncoder\n",
    "\n",
    "cat_cols = ['education', 'self_employed', 'loan_status']\n",
    "le = LabelEncoder()\n",
    "\n",
    "for col in cat_cols:\n",
    "    data[col] = le.fit_transform(data[col])\n",
    "    \n",
    "# Check encoding\n",
    "data.head()\n"
   ]
  },
  {
   "cell_type": "code",
   "execution_count": 10,
   "id": "a09ed48d",
   "metadata": {},
   "outputs": [
    {
     "name": "stdout",
     "output_type": "stream",
     "text": [
      "Feature shape: (4269, 11)\n",
      "Target distribution:\n",
      " loan_status\n",
      "0    2656\n",
      "1    1613\n",
      "Name: count, dtype: int64\n"
     ]
    }
   ],
   "source": [
    "X = data.drop('loan_status', axis=1)\n",
    "y = data['loan_status']\n",
    "\n",
    "print(\"Feature shape:\", X.shape)\n",
    "print(\"Target distribution:\\n\", y.value_counts())\n",
    "\n"
   ]
  },
  {
   "cell_type": "code",
   "execution_count": 11,
   "id": "7516e7ea",
   "metadata": {},
   "outputs": [
    {
     "name": "stdout",
     "output_type": "stream",
     "text": [
      "Balanced feature shape: (5312, 11)\n",
      "Balanced target distribution:\n",
      " loan_status\n",
      "0    2656\n",
      "1    2656\n",
      "Name: count, dtype: int64\n"
     ]
    }
   ],
   "source": [
    "from imblearn.over_sampling import SMOTE\n",
    "from sklearn.preprocessing import StandardScaler\n",
    "\n",
    "# Scale features first\n",
    "scaler = StandardScaler()\n",
    "X_scaled = scaler.fit_transform(X)\n",
    "\n",
    "# Apply SMOTE\n",
    "smote = SMOTE(random_state=42)\n",
    "X_balanced, y_balanced = smote.fit_resample(X_scaled, y)\n",
    "\n",
    "print(\"Balanced feature shape:\", X_balanced.shape)\n",
    "print(\"Balanced target distribution:\\n\", pd.Series(y_balanced).value_counts())\n"
   ]
  },
  {
   "cell_type": "code",
   "execution_count": 12,
   "id": "e2a040d6",
   "metadata": {},
   "outputs": [
    {
     "name": "stdout",
     "output_type": "stream",
     "text": [
      "cibil_score                 0.833840\n",
      "loan_term                   0.057371\n",
      "loan_amount                 0.025319\n",
      "income_annum                0.015106\n",
      "luxury_assets_value         0.014333\n",
      "residential_assets_value    0.013728\n",
      "bank_asset_value            0.012733\n",
      "commercial_assets_value     0.012259\n",
      "no_of_dependents            0.011125\n",
      "self_employed               0.002318\n",
      "education                   0.001869\n",
      "dtype: float64\n"
     ]
    },
    {
     "data": {
      "image/png": "[encoded data removed]",
      "text/plain": [
       "<Figure size 1200x600 with 1 Axes>"
      ]
     },
     "metadata": {},
     "output_type": "display_data"
    }
   ],
   "source": [
    "from sklearn.ensemble import RandomForestClassifier\n",
    "# Train a Random Forest on your balanced data\n",
    "rf = RandomForestClassifier(random_state=42)\n",
    "rf.fit(X_balanced, y_balanced)\n",
    "\n",
    "# Get feature importance\n",
    "importances = rf.feature_importances_\n",
    "feature_names = X.columns\n",
    "feat_importance = pd.Series(importances, index=feature_names).sort_values(ascending=False)\n",
    "\n",
    "# Display\n",
    "print(feat_importance)\n",
    "\n",
    "# Plot\n",
    "plt.figure(figsize=(12,6))\n",
    "feat_importance.plot(kind='bar')\n",
    "plt.title(\"Feature Importance\")\n",
    "plt.show()"
   ]
  },
  {
   "cell_type": "code",
   "execution_count": 13,
   "id": "5bd3736b",
   "metadata": {},
   "outputs": [
    {
     "data": {
      "text/html": [
       "<div>\n",
       "<style scoped>\n",
       "    .dataframe tbody tr th:only-of-type {\n",
       "        vertical-align: middle;\n",
       "    }\n",
       "\n",
       "    .dataframe tbody tr th {\n",
       "        vertical-align: top;\n",
       "    }\n",
       "\n",
       "    .dataframe thead th {\n",
       "        text-align: right;\n",
       "    }\n",
       "</style>\n",
       "<table border=\"1\" class=\"dataframe\">\n",
       "  <thead>\n",
       "    <tr style=\"text-align: right;\">\n",
       "      <th></th>\n",
       "      <th>cibil_score</th>\n",
       "      <th>loan_term</th>\n",
       "      <th>loan_amount</th>\n",
       "      <th>income_annum</th>\n",
       "      <th>luxury_assets_value</th>\n",
       "      <th>residential_assets_value</th>\n",
       "      <th>bank_asset_value</th>\n",
       "      <th>commercial_assets_value</th>\n",
       "      <th>no_of_dependents</th>\n",
       "    </tr>\n",
       "  </thead>\n",
       "  <tbody>\n",
       "    <tr>\n",
       "      <th>2230</th>\n",
       "      <td>-0.417238</td>\n",
       "      <td>0.54297</td>\n",
       "      <td>0.073715</td>\n",
       "      <td>0.263985</td>\n",
       "      <td>0.689213</td>\n",
       "      <td>-0.179124</td>\n",
       "      <td>1.146172</td>\n",
       "      <td>-1.115006</td>\n",
       "      <td>0.885344</td>\n",
       "    </tr>\n",
       "  </tbody>\n",
       "</table>\n",
       "</div>"
      ],
      "text/plain": [
       "      cibil_score  loan_term  loan_amount  income_annum  luxury_assets_value  \\\n",
       "2230    -0.417238    0.54297     0.073715      0.263985             0.689213   \n",
       "\n",
       "      residential_assets_value  bank_asset_value  commercial_assets_value  \\\n",
       "2230                 -0.179124          1.146172                -1.115006   \n",
       "\n",
       "      no_of_dependents  \n",
       "2230          0.885344  "
      ]
     },
     "execution_count": 13,
     "metadata": {},
     "output_type": "execute_result"
    }
   ],
   "source": [
    "selected_features = ['cibil_score',    'loan_term',    'loan_amount',    'income_annum',    'luxury_assets_value',\n",
    "                'residential_assets_value',    'bank_asset_value',    'commercial_assets_value',    'no_of_dependents']\n",
    "X_selected = pd.DataFrame(X_balanced, columns=X.columns)[selected_features]\n",
    "X_selected.sample()"
   ]
  },
  {
   "cell_type": "code",
   "execution_count": 14,
   "id": "c8e101ed",
   "metadata": {},
   "outputs": [
    {
     "name": "stdout",
     "output_type": "stream",
     "text": [
      "Training shape: (4249, 9)\n",
      "Testing shape: (1063, 9)\n",
      "Training shape: (4249,)\n",
      "Testing shape: (1063,)\n"
     ]
    }
   ],
   "source": [
    "from sklearn.model_selection import train_test_split\n",
    "\n",
    "X_train, X_test, y_train, y_test = train_test_split( X_selected, y_balanced, test_size=0.2, random_state=42)\n",
    "\n",
    "print(\"Training shape:\", X_train.shape)\n",
    "print(\"Testing shape:\", X_test.shape)\n",
    "print(\"Training shape:\", y_train.shape)\n",
    "print(\"Testing shape:\", y_test.shape)\n"
   ]
  },
  {
   "cell_type": "code",
   "execution_count": 15,
   "id": "3ef9d871",
   "metadata": {},
   "outputs": [
    {
     "name": "stderr",
     "output_type": "stream",
     "text": [
      "c:\\Users\\omalb\\.conda\\envs\\loan_approval_env\\lib\\site-packages\\mlflow\\utils\\requirements_utils.py:20: UserWarning: pkg_resources is deprecated as an API. See https://setuptools.pypa.io/en/latest/pkg_resources.html. The pkg_resources package is slated for removal as early as 2025-11-30. Refrain from using this package or pin to Setuptools<81.\n",
      "  import pkg_resources  # noqa: TID251\n",
      "c:\\Users\\omalb\\.conda\\envs\\loan_approval_env\\lib\\site-packages\\pydantic\\_internal\\_config.py:383: UserWarning: Valid config keys have changed in V2:\n",
      "* 'schema_extra' has been renamed to 'json_schema_extra'\n",
      "  warnings.warn(message, UserWarning)\n"
     ]
    }
   ],
   "source": [
    "from sklearn.linear_model import LogisticRegression\n",
    "from sklearn.tree import DecisionTreeClassifier\n",
    "from sklearn.ensemble import RandomForestClassifier, GradientBoostingClassifier\n",
    "from sklearn.svm import SVC\n",
    "from sklearn.neighbors import KNeighborsClassifier\n",
    "from sklearn.metrics import accuracy_score, classification_report, confusion_matrix, roc_auc_score\n",
    "import mlflow\n",
    "import dagshub\n",
    "\n",
    "models = {\n",
    "    \"Logistic Regression\": LogisticRegression(),\n",
    "    \"Decision Tree\": DecisionTreeClassifier(),\n",
    "    \"Random Forest\": RandomForestClassifier(),\n",
    "    \"Gradient Boosting\": GradientBoostingClassifier(),\n",
    "    \"SVM\": SVC(probability=True),\n",
    "    \"KNN\": KNeighborsClassifier()\n",
    "}\n",
    "\n",
    "\n",
    "\n",
    "\n",
    "\n"
   ]
  },
  {
   "cell_type": "code",
   "execution_count": 16,
   "id": "516a281a",
   "metadata": {},
   "outputs": [
    {
     "data": {
      "text/html": [
       "<pre style=\"white-space:pre;overflow-x:auto;line-height:normal;font-family:Menlo,'DejaVu Sans Mono',consolas,'Courier New',monospace\">Accessing as omalbhare\n",
       "</pre>\n"
      ],
      "text/plain": [
       "Accessing as omalbhare\n"
      ]
     },
     "metadata": {},
     "output_type": "display_data"
    },
    {
     "data": {
      "text/html": [
       "<pre style=\"white-space:pre;overflow-x:auto;line-height:normal;font-family:Menlo,'DejaVu Sans Mono',consolas,'Courier New',monospace\">Initialized MLflow to track repo <span style=\"color: #008000; text-decoration-color: #008000\">\"omalbhare/loan-approval-prediction\"</span>\n",
       "</pre>\n"
      ],
      "text/plain": [
       "Initialized MLflow to track repo \u001b[32m\"omalbhare/loan-approval-prediction\"\u001b[0m\n"
      ]
     },
     "metadata": {},
     "output_type": "display_data"
    },
    {
     "data": {
      "text/html": [
       "<pre style=\"white-space:pre;overflow-x:auto;line-height:normal;font-family:Menlo,'DejaVu Sans Mono',consolas,'Courier New',monospace\">Repository omalbhare/loan-approval-prediction initialized!\n",
       "</pre>\n"
      ],
      "text/plain": [
       "Repository omalbhare/loan-approval-prediction initialized!\n"
      ]
     },
     "metadata": {},
     "output_type": "display_data"
    },
    {
     "data": {
      "text/plain": [
       "<Experiment: artifact_location='mlflow-artifacts:/36565e011a5645a4a27f7e8a94597901', creation_time=1760277232551, experiment_id='2', last_update_time=1760277232551, lifecycle_stage='active', name='experiment_1', tags={}>"
      ]
     },
     "execution_count": 16,
     "metadata": {},
     "output_type": "execute_result"
    }
   ],
   "source": [
    "\n",
    "# Read variables\n",
    "load_dotenv()\n",
    "tracking_uri = os.getenv(\"MLFLOW_TRACKING_URI\")\n",
    "repo_owner = os.getenv(\"DAGSHUB_REPO_OWNER\")\n",
    "repo_name = os.getenv(\"DAGSHUB_REPO_NAME\")\n",
    "experiment_name = os.getenv(\"MLFLOW_EXPERIMENT_1_NAME\")\n",
    "\n",
    "\n",
    "# Setup MLflow\n",
    "mlflow.set_tracking_uri(tracking_uri)\n",
    "dagshub.init(repo_owner=repo_owner, repo_name=repo_name, mlflow=True)\n",
    "mlflow.set_experiment(experiment_name)\n"
   ]
  },
  {
   "cell_type": "code",
   "execution_count": 17,
   "id": "d68d4623",
   "metadata": {},
   "outputs": [
    {
     "name": "stdout",
     "output_type": "stream",
     "text": [
      "--- Logistic Regression ---\n",
      "Accuracy: 0.929444967074318\n",
      "ROC AUC: 0.97128065278991\n",
      "Classification Report:\n",
      "               precision    recall  f1-score   support\n",
      "\n",
      "           0       0.93      0.92      0.93       502\n",
      "           1       0.93      0.94      0.93       561\n",
      "\n",
      "    accuracy                           0.93      1063\n",
      "   macro avg       0.93      0.93      0.93      1063\n",
      "weighted avg       0.93      0.93      0.93      1063\n",
      "\n",
      "--------------------------------------------------\n"
     ]
    },
    {
     "name": "stderr",
     "output_type": "stream",
     "text": [
      "c:\\Users\\omalb\\.conda\\envs\\loan_approval_env\\lib\\site-packages\\_distutils_hack\\__init__.py:15: UserWarning: Distutils was imported before Setuptools, but importing Setuptools also replaces the `distutils` module in `sys.modules`. This may lead to undesirable behaviors or errors. To avoid these issues, avoid using distutils directly, ensure that setuptools is installed in the traditional way (e.g. not an editable install), and/or make sure that setuptools is always imported before distutils.\n",
      "  warnings.warn(\n",
      "c:\\Users\\omalb\\.conda\\envs\\loan_approval_env\\lib\\site-packages\\_distutils_hack\\__init__.py:30: UserWarning: Setuptools is replacing distutils. Support for replacing an already imported distutils is deprecated. In the future, this condition will fail. Register concerns at https://github.com/pypa/setuptools/issues/new?template=distutils-deprecation.yml\n",
      "  warnings.warn(\n"
     ]
    },
    {
     "name": "stdout",
     "output_type": "stream",
     "text": [
      "--- Decision Tree ---\n",
      "Accuracy: 0.9755409219190969\n",
      "ROC AUC: 0.9756748407439759\n",
      "Classification Report:\n",
      "               precision    recall  f1-score   support\n",
      "\n",
      "           0       0.97      0.98      0.97       502\n",
      "           1       0.98      0.97      0.98       561\n",
      "\n",
      "    accuracy                           0.98      1063\n",
      "   macro avg       0.98      0.98      0.98      1063\n",
      "weighted avg       0.98      0.98      0.98      1063\n",
      "\n",
      "--------------------------------------------------\n"
     ]
    },
    {
     "name": "stderr",
     "output_type": "stream",
     "text": [
      "c:\\Users\\omalb\\.conda\\envs\\loan_approval_env\\lib\\site-packages\\_distutils_hack\\__init__.py:15: UserWarning: Distutils was imported before Setuptools, but importing Setuptools also replaces the `distutils` module in `sys.modules`. This may lead to undesirable behaviors or errors. To avoid these issues, avoid using distutils directly, ensure that setuptools is installed in the traditional way (e.g. not an editable install), and/or make sure that setuptools is always imported before distutils.\n",
      "  warnings.warn(\n",
      "c:\\Users\\omalb\\.conda\\envs\\loan_approval_env\\lib\\site-packages\\_distutils_hack\\__init__.py:30: UserWarning: Setuptools is replacing distutils. Support for replacing an already imported distutils is deprecated. In the future, this condition will fail. Register concerns at https://github.com/pypa/setuptools/issues/new?template=distutils-deprecation.yml\n",
      "  warnings.warn(\n"
     ]
    },
    {
     "name": "stdout",
     "output_type": "stream",
     "text": [
      "--- Random Forest ---\n",
      "Accuracy: 0.980244590780809\n",
      "ROC AUC: 0.9985246181051196\n",
      "Classification Report:\n",
      "               precision    recall  f1-score   support\n",
      "\n",
      "           0       0.97      0.99      0.98       502\n",
      "           1       0.99      0.97      0.98       561\n",
      "\n",
      "    accuracy                           0.98      1063\n",
      "   macro avg       0.98      0.98      0.98      1063\n",
      "weighted avg       0.98      0.98      0.98      1063\n",
      "\n",
      "--------------------------------------------------\n"
     ]
    },
    {
     "name": "stderr",
     "output_type": "stream",
     "text": [
      "c:\\Users\\omalb\\.conda\\envs\\loan_approval_env\\lib\\site-packages\\_distutils_hack\\__init__.py:15: UserWarning: Distutils was imported before Setuptools, but importing Setuptools also replaces the `distutils` module in `sys.modules`. This may lead to undesirable behaviors or errors. To avoid these issues, avoid using distutils directly, ensure that setuptools is installed in the traditional way (e.g. not an editable install), and/or make sure that setuptools is always imported before distutils.\n",
      "  warnings.warn(\n",
      "c:\\Users\\omalb\\.conda\\envs\\loan_approval_env\\lib\\site-packages\\_distutils_hack\\__init__.py:30: UserWarning: Setuptools is replacing distutils. Support for replacing an already imported distutils is deprecated. In the future, this condition will fail. Register concerns at https://github.com/pypa/setuptools/issues/new?template=distutils-deprecation.yml\n",
      "  warnings.warn(\n"
     ]
    },
    {
     "name": "stdout",
     "output_type": "stream",
     "text": [
      "--- Gradient Boosting ---\n",
      "Accuracy: 0.9793038570084666\n",
      "ROC AUC: 0.9980292732812066\n",
      "Classification Report:\n",
      "               precision    recall  f1-score   support\n",
      "\n",
      "           0       0.97      0.99      0.98       502\n",
      "           1       0.99      0.97      0.98       561\n",
      "\n",
      "    accuracy                           0.98      1063\n",
      "   macro avg       0.98      0.98      0.98      1063\n",
      "weighted avg       0.98      0.98      0.98      1063\n",
      "\n",
      "--------------------------------------------------\n"
     ]
    },
    {
     "name": "stderr",
     "output_type": "stream",
     "text": [
      "c:\\Users\\omalb\\.conda\\envs\\loan_approval_env\\lib\\site-packages\\_distutils_hack\\__init__.py:15: UserWarning: Distutils was imported before Setuptools, but importing Setuptools also replaces the `distutils` module in `sys.modules`. This may lead to undesirable behaviors or errors. To avoid these issues, avoid using distutils directly, ensure that setuptools is installed in the traditional way (e.g. not an editable install), and/or make sure that setuptools is always imported before distutils.\n",
      "  warnings.warn(\n",
      "c:\\Users\\omalb\\.conda\\envs\\loan_approval_env\\lib\\site-packages\\_distutils_hack\\__init__.py:30: UserWarning: Setuptools is replacing distutils. Support for replacing an already imported distutils is deprecated. In the future, this condition will fail. Register concerns at https://github.com/pypa/setuptools/issues/new?template=distutils-deprecation.yml\n",
      "  warnings.warn(\n"
     ]
    },
    {
     "name": "stdout",
     "output_type": "stream",
     "text": [
      "--- SVM ---\n",
      "Accuracy: 0.9520225776105362\n",
      "ROC AUC: 0.9886337004921492\n",
      "Classification Report:\n",
      "               precision    recall  f1-score   support\n",
      "\n",
      "           0       0.96      0.94      0.95       502\n",
      "           1       0.95      0.96      0.95       561\n",
      "\n",
      "    accuracy                           0.95      1063\n",
      "   macro avg       0.95      0.95      0.95      1063\n",
      "weighted avg       0.95      0.95      0.95      1063\n",
      "\n",
      "--------------------------------------------------\n"
     ]
    },
    {
     "name": "stderr",
     "output_type": "stream",
     "text": [
      "c:\\Users\\omalb\\.conda\\envs\\loan_approval_env\\lib\\site-packages\\_distutils_hack\\__init__.py:15: UserWarning: Distutils was imported before Setuptools, but importing Setuptools also replaces the `distutils` module in `sys.modules`. This may lead to undesirable behaviors or errors. To avoid these issues, avoid using distutils directly, ensure that setuptools is installed in the traditional way (e.g. not an editable install), and/or make sure that setuptools is always imported before distutils.\n",
      "  warnings.warn(\n",
      "c:\\Users\\omalb\\.conda\\envs\\loan_approval_env\\lib\\site-packages\\_distutils_hack\\__init__.py:30: UserWarning: Setuptools is replacing distutils. Support for replacing an already imported distutils is deprecated. In the future, this condition will fail. Register concerns at https://github.com/pypa/setuptools/issues/new?template=distutils-deprecation.yml\n",
      "  warnings.warn(\n"
     ]
    },
    {
     "name": "stdout",
     "output_type": "stream",
     "text": [
      "--- KNN ---\n",
      "Accuracy: 0.9209783631232361\n",
      "ROC AUC: 0.9765359240400253\n",
      "Classification Report:\n",
      "               precision    recall  f1-score   support\n",
      "\n",
      "           0       0.94      0.89      0.91       502\n",
      "           1       0.91      0.95      0.93       561\n",
      "\n",
      "    accuracy                           0.92      1063\n",
      "   macro avg       0.92      0.92      0.92      1063\n",
      "weighted avg       0.92      0.92      0.92      1063\n",
      "\n",
      "--------------------------------------------------\n"
     ]
    }
   ],
   "source": [
    "with mlflow.start_run(run_name=\"All Models\") as parent_run:\n",
    "    for name, model in models.items():\n",
    "        # Nested run for each individual model\n",
    "        with mlflow.start_run(run_name=name, nested=True):\n",
    "            # Train model\n",
    "            model.fit(X_train, y_train)\n",
    "            y_pred = model.predict(X_test)\n",
    "            y_prob = model.predict_proba(X_test)[:,1] if hasattr(model, \"predict_proba\") else None\n",
    "            \n",
    "            # Calculate metrics\n",
    "            acc = accuracy_score(y_test, y_pred)\n",
    "            auc = roc_auc_score(y_test, y_prob) if y_prob is not None else None\n",
    "            report = classification_report(y_test, y_pred, output_dict=True)\n",
    "            \n",
    "            # Log metrics\n",
    "            mlflow.log_metric(\"accuracy\", acc)\n",
    "            if auc is not None:\n",
    "                mlflow.log_metric(\"roc_auc\", auc)\n",
    "\n",
    "            # Log params\n",
    "            mlflow.log_param(\"model_name\", name)\n",
    "            \n",
    "            # Log classification report metrics individually\n",
    "            for key in [\"0\", \"1\", \"macro avg\", \"weighted avg\"]:\n",
    "                for metric in [\"precision\", \"recall\", \"f1-score\", \"support\"]:\n",
    "                    metric_name = f\"{key}_{metric}\"\n",
    "                    mlflow.log_metric(metric_name, report[key][metric])\n",
    "            \n",
    "            # Log model artifact\n",
    "            mlflow.sklearn.log_model(model, artifact_path=\"model\")\n",
    "            \n",
    "            # Print results\n",
    "            print(f\"--- {name} ---\")\n",
    "            print(\"Accuracy:\", acc)\n",
    "            print(\"ROC AUC:\", auc if auc is not None else \"N/A\")\n",
    "            print(\"Classification Report:\\n\", classification_report(y_test, y_pred))\n",
    "            print(\"-\"*50)"
   ]
  },
  {
   "cell_type": "code",
   "execution_count": 18,
   "id": "d4585e58",
   "metadata": {},
   "outputs": [
    {
     "data": {
      "text/plain": [
       "['data/y_test.pkl']"
      ]
     },
     "execution_count": 18,
     "metadata": {},
     "output_type": "execute_result"
    }
   ],
   "source": [
    "import joblib\n",
    "import os\n",
    "os.makedirs('data', exist_ok=True)\n",
    "joblib.dump(X_train, \"data/X_train.pkl\")\n",
    "joblib.dump(X_test, \"data/X_test.pkl\")\n",
    "joblib.dump(y_train, \"data/y_train.pkl\")\n",
    "joblib.dump(y_test, \"data/y_test.pkl\")"
   ]
  },
  {
   "cell_type": "code",
   "execution_count": null,
   "id": "5feade8d",
   "metadata": {},
   "outputs": [],
   "source": []
  },
  {
   "cell_type": "code",
   "execution_count": null,
   "id": "53fc46ae",
   "metadata": {},
   "outputs": [],
   "source": []
  }
 ],
 "metadata": {
  "kernelspec": {
   "display_name": "loan_approval_env",
   "language": "python",
   "name": "python3"
  },
  "language_info": {
   "codemirror_mode": {
    "name": "ipython",
    "version": 3
   },
   "file_extension": ".py",
   "mimetype": "text/x-python",
   "name": "python",
   "nbconvert_exporter": "python",
   "pygments_lexer": "ipython3",
   "version": "3.10.18"
  }
 },
 "nbformat": 4,
 "nbformat_minor": 5
}
