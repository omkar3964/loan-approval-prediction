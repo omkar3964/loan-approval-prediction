{
 "cells": [
  {
   "cell_type": "code",
   "execution_count": 1,
   "id": "141d48a6",
   "metadata": {},
   "outputs": [
    {
     "name": "stderr",
     "output_type": "stream",
     "text": [
      "c:\\Users\\omalb\\.conda\\envs\\loan_approval_env\\lib\\site-packages\\mlflow\\utils\\requirements_utils.py:20: UserWarning: pkg_resources is deprecated as an API. See https://setuptools.pypa.io/en/latest/pkg_resources.html. The pkg_resources package is slated for removal as early as 2025-11-30. Refrain from using this package or pin to Setuptools<81.\n",
      "  import pkg_resources  # noqa: TID251\n",
      "c:\\Users\\omalb\\.conda\\envs\\loan_approval_env\\lib\\site-packages\\pydantic\\_internal\\_config.py:383: UserWarning: Valid config keys have changed in V2:\n",
      "* 'schema_extra' has been renamed to 'json_schema_extra'\n",
      "  warnings.warn(message, UserWarning)\n"
     ]
    }
   ],
   "source": [
    "import joblib\n",
    "import mlflow\n",
    "import dagshub\n",
    "from dotenv import load_dotenv\n",
    "import os\n",
    "\n",
    "from sklearn.ensemble import RandomForestClassifier\n",
    "from sklearn.model_selection import GridSearchCV\n",
    "from sklearn.metrics import accuracy_score, classification_report, roc_auc_score\n",
    "import mlflow.sklearn\n",
    "from sklearn.metrics import accuracy_score, precision_score, recall_score, f1_score, roc_auc_score\n",
    "\n"
   ]
  },
  {
   "cell_type": "code",
   "execution_count": 2,
   "id": "c4e3075b",
   "metadata": {},
   "outputs": [],
   "source": [
    "# Load saved train/test splits\n",
    "X_train = joblib.load(\"data/X_train.pkl\")\n",
    "X_test  = joblib.load(\"data/X_test.pkl\")\n",
    "y_train = joblib.load(\"data/y_train.pkl\")\n",
    "y_test  = joblib.load(\"data/y_test.pkl\")"
   ]
  },
  {
   "cell_type": "code",
   "execution_count": 3,
   "id": "51600dd6",
   "metadata": {},
   "outputs": [
    {
     "data": {
      "text/html": [
       "<pre style=\"white-space:pre;overflow-x:auto;line-height:normal;font-family:Menlo,'DejaVu Sans Mono',consolas,'Courier New',monospace\">Accessing as omalbhare\n",
       "</pre>\n"
      ],
      "text/plain": [
       "Accessing as omalbhare\n"
      ]
     },
     "metadata": {},
     "output_type": "display_data"
    },
    {
     "data": {
      "text/html": [
       "<pre style=\"white-space:pre;overflow-x:auto;line-height:normal;font-family:Menlo,'DejaVu Sans Mono',consolas,'Courier New',monospace\">Initialized MLflow to track repo <span style=\"color: #008000; text-decoration-color: #008000\">\"omalbhare/loan-approval-prediction\"</span>\n",
       "</pre>\n"
      ],
      "text/plain": [
       "Initialized MLflow to track repo \u001b[32m\"omalbhare/loan-approval-prediction\"\u001b[0m\n"
      ]
     },
     "metadata": {},
     "output_type": "display_data"
    },
    {
     "data": {
      "text/html": [
       "<pre style=\"white-space:pre;overflow-x:auto;line-height:normal;font-family:Menlo,'DejaVu Sans Mono',consolas,'Courier New',monospace\">Repository omalbhare/loan-approval-prediction initialized!\n",
       "</pre>\n"
      ],
      "text/plain": [
       "Repository omalbhare/loan-approval-prediction initialized!\n"
      ]
     },
     "metadata": {},
     "output_type": "display_data"
    },
    {
     "data": {
      "text/plain": [
       "<Experiment: artifact_location='mlflow-artifacts:/87db2281858c419a84627e673e6374da', creation_time=1760279343877, experiment_id='3', last_update_time=1760279343877, lifecycle_stage='active', name='experiment_2', tags={}>"
      ]
     },
     "execution_count": 3,
     "metadata": {},
     "output_type": "execute_result"
    }
   ],
   "source": [
    "\n",
    "\n",
    "load_dotenv()\n",
    "# Environment variables\n",
    "tracking_uri = os.getenv(\"MLFLOW_TRACKING_URI\")\n",
    "repo_owner = os.getenv(\"DAGSHUB_REPO_OWNER\")\n",
    "repo_name = os.getenv(\"DAGSHUB_REPO_NAME\")\n",
    "experiment_name = os.getenv(\"MLFLOW_EXPERIMENT_2_NAME\")  # New experiment\n",
    "\n",
    "# setup mlflow\n",
    "mlflow.set_tracking_uri(tracking_uri)\n",
    "dagshub.init(repo_owner=repo_owner, repo_name=repo_name, mlflow=True)\n",
    "mlflow.set_experiment(experiment_name)\n"
   ]
  },
  {
   "cell_type": "code",
   "execution_count": 4,
   "id": "b155d328",
   "metadata": {},
   "outputs": [
    {
     "name": "stdout",
     "output_type": "stream",
     "text": [
      "Params: {'max_depth': None, 'min_samples_leaf': 1, 'min_samples_split': 2, 'n_estimators': 100} | Accuracy: 0.9802 | F1: 0.9811 | ROC AUC: 0.9987\n",
      "Params: {'max_depth': None, 'min_samples_leaf': 1, 'min_samples_split': 2, 'n_estimators': 200} | Accuracy: 0.9821 | F1: 0.9829 | ROC AUC: 0.9988\n",
      "Params: {'max_depth': None, 'min_samples_leaf': 1, 'min_samples_split': 2, 'n_estimators': 300} | Accuracy: 0.9812 | F1: 0.9820 | ROC AUC: 0.9988\n",
      "Params: {'max_depth': None, 'min_samples_leaf': 1, 'min_samples_split': 5, 'n_estimators': 100} | Accuracy: 0.9793 | F1: 0.9803 | ROC AUC: 0.9984\n",
      "Params: {'max_depth': None, 'min_samples_leaf': 1, 'min_samples_split': 5, 'n_estimators': 200} | Accuracy: 0.9784 | F1: 0.9793 | ROC AUC: 0.9984\n",
      "Params: {'max_depth': None, 'min_samples_leaf': 1, 'min_samples_split': 5, 'n_estimators': 300} | Accuracy: 0.9812 | F1: 0.9820 | ROC AUC: 0.9984\n",
      "Params: {'max_depth': None, 'min_samples_leaf': 2, 'min_samples_split': 2, 'n_estimators': 100} | Accuracy: 0.9793 | F1: 0.9803 | ROC AUC: 0.9984\n",
      "Params: {'max_depth': None, 'min_samples_leaf': 2, 'min_samples_split': 2, 'n_estimators': 200} | Accuracy: 0.9774 | F1: 0.9785 | ROC AUC: 0.9986\n",
      "Params: {'max_depth': None, 'min_samples_leaf': 2, 'min_samples_split': 2, 'n_estimators': 300} | Accuracy: 0.9793 | F1: 0.9802 | ROC AUC: 0.9986\n",
      "Params: {'max_depth': None, 'min_samples_leaf': 2, 'min_samples_split': 5, 'n_estimators': 100} | Accuracy: 0.9821 | F1: 0.9829 | ROC AUC: 0.9976\n",
      "Params: {'max_depth': None, 'min_samples_leaf': 2, 'min_samples_split': 5, 'n_estimators': 200} | Accuracy: 0.9802 | F1: 0.9811 | ROC AUC: 0.9981\n",
      "Params: {'max_depth': None, 'min_samples_leaf': 2, 'min_samples_split': 5, 'n_estimators': 300} | Accuracy: 0.9812 | F1: 0.9820 | ROC AUC: 0.9982\n",
      "Params: {'max_depth': 10, 'min_samples_leaf': 1, 'min_samples_split': 2, 'n_estimators': 100} | Accuracy: 0.9812 | F1: 0.9820 | ROC AUC: 0.9980\n",
      "Params: {'max_depth': 10, 'min_samples_leaf': 1, 'min_samples_split': 2, 'n_estimators': 200} | Accuracy: 0.9802 | F1: 0.9811 | ROC AUC: 0.9987\n",
      "Params: {'max_depth': 10, 'min_samples_leaf': 1, 'min_samples_split': 2, 'n_estimators': 300} | Accuracy: 0.9812 | F1: 0.9820 | ROC AUC: 0.9986\n",
      "Params: {'max_depth': 10, 'min_samples_leaf': 1, 'min_samples_split': 5, 'n_estimators': 100} | Accuracy: 0.9812 | F1: 0.9821 | ROC AUC: 0.9986\n",
      "Params: {'max_depth': 10, 'min_samples_leaf': 1, 'min_samples_split': 5, 'n_estimators': 200} | Accuracy: 0.9774 | F1: 0.9785 | ROC AUC: 0.9985\n",
      "Params: {'max_depth': 10, 'min_samples_leaf': 1, 'min_samples_split': 5, 'n_estimators': 300} | Accuracy: 0.9793 | F1: 0.9802 | ROC AUC: 0.9985\n",
      "Params: {'max_depth': 10, 'min_samples_leaf': 2, 'min_samples_split': 2, 'n_estimators': 100} | Accuracy: 0.9812 | F1: 0.9821 | ROC AUC: 0.9984\n",
      "Params: {'max_depth': 10, 'min_samples_leaf': 2, 'min_samples_split': 2, 'n_estimators': 200} | Accuracy: 0.9793 | F1: 0.9802 | ROC AUC: 0.9985\n",
      "Params: {'max_depth': 10, 'min_samples_leaf': 2, 'min_samples_split': 2, 'n_estimators': 300} | Accuracy: 0.9784 | F1: 0.9793 | ROC AUC: 0.9985\n",
      "Params: {'max_depth': 10, 'min_samples_leaf': 2, 'min_samples_split': 5, 'n_estimators': 100} | Accuracy: 0.9793 | F1: 0.9803 | ROC AUC: 0.9982\n",
      "Params: {'max_depth': 10, 'min_samples_leaf': 2, 'min_samples_split': 5, 'n_estimators': 200} | Accuracy: 0.9793 | F1: 0.9803 | ROC AUC: 0.9981\n",
      "Params: {'max_depth': 10, 'min_samples_leaf': 2, 'min_samples_split': 5, 'n_estimators': 300} | Accuracy: 0.9793 | F1: 0.9802 | ROC AUC: 0.9983\n",
      "Params: {'max_depth': 20, 'min_samples_leaf': 1, 'min_samples_split': 2, 'n_estimators': 100} | Accuracy: 0.9802 | F1: 0.9811 | ROC AUC: 0.9987\n",
      "Params: {'max_depth': 20, 'min_samples_leaf': 1, 'min_samples_split': 2, 'n_estimators': 200} | Accuracy: 0.9821 | F1: 0.9829 | ROC AUC: 0.9988\n",
      "Params: {'max_depth': 20, 'min_samples_leaf': 1, 'min_samples_split': 2, 'n_estimators': 300} | Accuracy: 0.9812 | F1: 0.9820 | ROC AUC: 0.9988\n",
      "Params: {'max_depth': 20, 'min_samples_leaf': 1, 'min_samples_split': 5, 'n_estimators': 100} | Accuracy: 0.9793 | F1: 0.9803 | ROC AUC: 0.9984\n",
      "Params: {'max_depth': 20, 'min_samples_leaf': 1, 'min_samples_split': 5, 'n_estimators': 200} | Accuracy: 0.9784 | F1: 0.9793 | ROC AUC: 0.9984\n",
      "Params: {'max_depth': 20, 'min_samples_leaf': 1, 'min_samples_split': 5, 'n_estimators': 300} | Accuracy: 0.9812 | F1: 0.9820 | ROC AUC: 0.9984\n",
      "Params: {'max_depth': 20, 'min_samples_leaf': 2, 'min_samples_split': 2, 'n_estimators': 100} | Accuracy: 0.9793 | F1: 0.9803 | ROC AUC: 0.9984\n",
      "Params: {'max_depth': 20, 'min_samples_leaf': 2, 'min_samples_split': 2, 'n_estimators': 200} | Accuracy: 0.9774 | F1: 0.9785 | ROC AUC: 0.9986\n",
      "Params: {'max_depth': 20, 'min_samples_leaf': 2, 'min_samples_split': 2, 'n_estimators': 300} | Accuracy: 0.9793 | F1: 0.9802 | ROC AUC: 0.9986\n",
      "Params: {'max_depth': 20, 'min_samples_leaf': 2, 'min_samples_split': 5, 'n_estimators': 100} | Accuracy: 0.9821 | F1: 0.9829 | ROC AUC: 0.9976\n",
      "Params: {'max_depth': 20, 'min_samples_leaf': 2, 'min_samples_split': 5, 'n_estimators': 200} | Accuracy: 0.9802 | F1: 0.9811 | ROC AUC: 0.9981\n",
      "Params: {'max_depth': 20, 'min_samples_leaf': 2, 'min_samples_split': 5, 'n_estimators': 300} | Accuracy: 0.9812 | F1: 0.9820 | ROC AUC: 0.9982\n",
      "\n",
      "Best Params: {'max_depth': None, 'min_samples_leaf': 1, 'min_samples_split': 2, 'n_estimators': 100} | Best F1 Score: 0.9847\n"
     ]
    }
   ],
   "source": [
    "\n",
    "def train_and_log_rf(X_train, X_test, y_train, y_test):\n",
    "    \"\"\"Trains a Random Forest with GridSearch and logs each hyperparameter combination as nested runs in MLflow.\"\"\"\n",
    "    \n",
    "    param_grid = {\n",
    "        'n_estimators': [100, 200, 300],\n",
    "        'max_depth': [None, 10, 20],\n",
    "        'min_samples_split': [2, 5],\n",
    "        'min_samples_leaf': [1, 2]\n",
    "    }\n",
    "    \n",
    "    # Parent run for the whole experiment\n",
    "    with mlflow.start_run(run_name=\"RandomForest_Hyperparameter_Tuning\") as parent_run:\n",
    "        \n",
    "        grid_search = GridSearchCV(RandomForestClassifier(random_state=42), \n",
    "                                   param_grid, cv=5, scoring=\"accuracy\", n_jobs=-1)\n",
    "        grid_search.fit(X_train, y_train)\n",
    "        \n",
    "        # Nested runs for each combination\n",
    "        for params, mean_score, std_score in zip(grid_search.cv_results_[\"params\"],\n",
    "                                                 grid_search.cv_results_[\"mean_test_score\"],\n",
    "                                                 grid_search.cv_results_[\"std_test_score\"]):\n",
    "            with mlflow.start_run(run_name=f\"RF params: {params}\", nested=True):\n",
    "                model = RandomForestClassifier(**params, random_state=42)\n",
    "                model.fit(X_train, y_train)\n",
    "                \n",
    "                y_pred = model.predict(X_test)\n",
    "                y_prob = model.predict_proba(X_test)[:,1]\n",
    "                \n",
    "                metrics = {\n",
    "                    \"accuracy\": accuracy_score(y_test, y_pred),\n",
    "                    \"precision\": precision_score(y_test, y_pred),\n",
    "                    \"recall\": recall_score(y_test, y_pred),\n",
    "                    \"f1_score\": f1_score(y_test, y_pred),\n",
    "                    \"roc_auc\": roc_auc_score(y_test, y_prob),\n",
    "                    \"mean_cv_score\": mean_score,\n",
    "                    \"std_cv_score\": std_score\n",
    "                }\n",
    "                \n",
    "                # Log params and metrics\n",
    "                mlflow.log_params(params)\n",
    "                mlflow.log_metrics(metrics)\n",
    "                \n",
    "                print(f\"Params: {params} | Accuracy: {metrics['accuracy']:.4f} | F1: {metrics['f1_score']:.4f} | ROC AUC: {metrics['roc_auc']:.4f}\")\n",
    "        \n",
    "        # Log the best model\n",
    "        best_model = grid_search.best_estimator_\n",
    "        best_params = grid_search.best_params_\n",
    "        best_f1 = grid_search.best_score_\n",
    "        \n",
    "        mlflow.log_params(best_params)\n",
    "        mlflow.log_metric(\"best_f1_score\", best_f1)\n",
    "        mlflow.sklearn.log_model(best_model, artifact_path=\"model\")\n",
    "        \n",
    "        print(f\"\\nBest Params: {best_params} | Best F1 Score: {best_f1:.4f}\")\n",
    "\n",
    "\n",
    "train_and_log_rf(X_train, X_test, y_train, y_test)\n"
   ]
  },
  {
   "cell_type": "code",
   "execution_count": null,
   "id": "f4369e57",
   "metadata": {},
   "outputs": [
    {
     "name": "stderr",
     "output_type": "stream",
     "text": [
      "c:\\Users\\omalb\\.conda\\envs\\loan_approval_env\\lib\\site-packages\\_distutils_hack\\__init__.py:15: UserWarning: Distutils was imported before Setuptools, but importing Setuptools also replaces the `distutils` module in `sys.modules`. This may lead to undesirable behaviors or errors. To avoid these issues, avoid using distutils directly, ensure that setuptools is installed in the traditional way (e.g. not an editable install), and/or make sure that setuptools is always imported before distutils.\n",
      "  warnings.warn(\n",
      "c:\\Users\\omalb\\.conda\\envs\\loan_approval_env\\lib\\site-packages\\_distutils_hack\\__init__.py:30: UserWarning: Setuptools is replacing distutils. Support for replacing an already imported distutils is deprecated. In the future, this condition will fail. Register concerns at https://github.com/pypa/setuptools/issues/new?template=distutils-deprecation.yml\n",
      "  warnings.warn(\n"
     ]
    },
    {
     "name": "stdout",
     "output_type": "stream",
     "text": [
      "\n",
      "✅ Final Random Forest model trained and logged to MLflow.\n",
      "Accuracy: 0.9802\n",
      "Precision: 0.9909\n",
      "Recall: 0.9715\n",
      "F1_score: 0.9811\n",
      "Roc_auc: 0.9987\n"
     ]
    }
   ],
   "source": [
    "def train_final_rf(X_train, X_test, y_train, y_test, best_params):\n",
    "    \"\"\"Trains final Random Forest model using best hyperparameters and logs it as Experiment 2 in MLflow.\"\"\"\n",
    "    \n",
    "    with mlflow.start_run(run_name=\"Experiment_2_Final_RF_Best_Model\"):\n",
    "        # Initialize model with the best parameters\n",
    "        model = RandomForestClassifier(**best_params, random_state=42)\n",
    "        model.fit(X_train, y_train)\n",
    "        \n",
    "        # Predictions\n",
    "        y_pred = model.predict(X_test)\n",
    "        y_prob = model.predict_proba(X_test)[:, 1]\n",
    "        \n",
    "        # Metrics\n",
    "        metrics = {\n",
    "            \"accuracy\": accuracy_score(y_test, y_pred),\n",
    "            \"precision\": precision_score(y_test, y_pred),\n",
    "            \"recall\": recall_score(y_test, y_pred),\n",
    "            \"f1_score\": f1_score(y_test, y_pred),\n",
    "            \"roc_auc\": roc_auc_score(y_test, y_prob)\n",
    "        }\n",
    "        \n",
    "        # Log model, parameters, and metrics\n",
    "        mlflow.log_params(best_params)\n",
    "        mlflow.log_metrics(metrics)\n",
    "        mlflow.sklearn.log_model(model, artifact_path=\"final_rf_model\")\n",
    "        \n",
    "        print(\"\\n Final Random Forest model trained and logged to MLflow.\")\n",
    "        for key, val in metrics.items():\n",
    "            print(f\"{key.capitalize()}: {val:.4f}\")\n",
    "\n",
    "        return model\n",
    "\n",
    "best_params = {\n",
    "    'n_estimators': 100,\n",
    "    'max_depth': None,\n",
    "    'min_samples_split': 2,\n",
    "    'min_samples_leaf': 1\n",
    "}\n",
    "\n",
    "final_model = train_final_rf(X_train, X_test, y_train, y_test, best_params)\n"
   ]
  },
  {
   "cell_type": "code",
   "execution_count": null,
   "id": "fa4202ec",
   "metadata": {},
   "outputs": [],
   "source": []
  }
 ],
 "metadata": {
  "kernelspec": {
   "display_name": "loan_approval_env",
   "language": "python",
   "name": "python3"
  },
  "language_info": {
   "codemirror_mode": {
    "name": "ipython",
    "version": 3
   },
   "file_extension": ".py",
   "mimetype": "text/x-python",
   "name": "python",
   "nbconvert_exporter": "python",
   "pygments_lexer": "ipython3",
   "version": "3.10.18"
  }
 },
 "nbformat": 4,
 "nbformat_minor": 5
}
